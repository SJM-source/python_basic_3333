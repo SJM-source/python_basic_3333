{
 "cells": [
  {
   "cell_type": "markdown",
   "id": "ee89f763",
   "metadata": {},
   "source": [
    "## 1. 파이썬 함수"
   ]
  },
  {
   "cell_type": "code",
   "execution_count": 2,
   "id": "44513dc5",
   "metadata": {},
   "outputs": [
    {
     "name": "stdout",
     "output_type": "stream",
     "text": [
      "7\n",
      "333\n"
     ]
    }
   ],
   "source": [
    "def add(a,b):\n",
    "    return a+b\n",
    "\n",
    "a,b = 3,4\n",
    "c = add(a,b)\n",
    "print(c) \n",
    "\n",
    "d = add(111,222)\n",
    "print(d)"
   ]
  },
  {
   "cell_type": "code",
   "execution_count": 3,
   "id": "65af5454",
   "metadata": {},
   "outputs": [
    {
     "name": "stdout",
     "output_type": "stream",
     "text": [
      "6\n"
     ]
    }
   ],
   "source": [
    "# 1.매개변수 O , 리턴값 O\n",
    "def minus(a,b):\n",
    "    result = a - b\n",
    "    return result\n",
    "\n",
    "a = minus(10,4)\n",
    "print(a)"
   ]
  },
  {
   "cell_type": "code",
   "execution_count": 4,
   "id": "1cf4fea2",
   "metadata": {},
   "outputs": [
    {
     "name": "stdout",
     "output_type": "stream",
     "text": [
      "hi\n"
     ]
    }
   ],
   "source": [
    "# 2. 매개변수 X , 리턴값 O\n",
    "def say():\n",
    "    return 'hi'\n",
    "\n",
    "print(say())"
   ]
  },
  {
   "cell_type": "code",
   "execution_count": 9,
   "id": "11c05874",
   "metadata": {},
   "outputs": [
    {
     "name": "stdout",
     "output_type": "stream",
     "text": [
      "12,24의 합은 36입니다.\n",
      "3,4의 합은 7입니다.\n",
      "None\n"
     ]
    }
   ],
   "source": [
    "# 매개변수 O,리턴값X\n",
    "def add(x,y):\n",
    "    print(\"%d,%d의 합은 %d입니다.\"%(x,y,x+y))\n",
    "\n",
    "add(12,24)\n",
    "\n",
    "a = add(3,4)\n",
    "print(a)\n"
   ]
  },
  {
   "cell_type": "code",
   "execution_count": 12,
   "id": "e9c9653b",
   "metadata": {},
   "outputs": [
    {
     "name": "stdout",
     "output_type": "stream",
     "text": [
      "Hi~\n"
     ]
    }
   ],
   "source": [
    "# 4. 매개변수X,리턴값X\n",
    "def say():\n",
    "    print('Hi~')\n",
    "\n",
    "say()"
   ]
  },
  {
   "cell_type": "code",
   "execution_count": 17,
   "id": "d29ce08c",
   "metadata": {},
   "outputs": [
    {
     "name": "stdout",
     "output_type": "stream",
     "text": [
      "4\n",
      "4\n"
     ]
    }
   ],
   "source": [
    "# 키워드 매개변수\n",
    "def sub(a,b):\n",
    "    return a- b\n",
    "\n",
    "result = sub(7,3)\n",
    "print(result)\n",
    "\n",
    "result2 = sub(b=3 ,a=7)\n",
    "print(result2)"
   ]
  },
  {
   "cell_type": "code",
   "execution_count": 11,
   "id": "07ba3685",
   "metadata": {},
   "outputs": [],
   "source": [
    "# 가변 매개변수(*매개변수명)\n",
    "def add_many(*args):\n",
    "    result = 0 \n",
    "    for i in args:\n",
    "        result = result + i\n",
    "    return result\n",
    "\n",
    "    res1 = add_many(1,2,3)\n",
    "    print(resl)\n",
    "\n",
    "    res2 = add_many(1,2,3,4,5,6,7,8,9,10)\n",
    "    print(res2) "
   ]
  },
  {
   "cell_type": "code",
   "execution_count": 14,
   "id": "75403cea",
   "metadata": {},
   "outputs": [
    {
     "ename": "SyntaxError",
     "evalue": "invalid syntax (237653043.py, line 7)",
     "output_type": "error",
     "traceback": [
      "\u001b[1;36m  Cell \u001b[1;32mIn[14], line 7\u001b[1;36m\u001b[0m\n\u001b[1;33m    elif choice == 'mul'\u001b[0m\n\u001b[1;37m    ^\u001b[0m\n\u001b[1;31mSyntaxError\u001b[0m\u001b[1;31m:\u001b[0m invalid syntax\n"
     ]
    }
   ],
   "source": [
    "# 덧셈, 곱셈 둘 다 연산 가능한 함수\n",
    "def add_mul(*args, choice):\n",
    "    if choice == 'add':\n",
    "        result = 0\n",
    "        for i in args:\n",
    "            result += i\n",
    "            elif choice == 'mul':\n",
    "            result = 0\n",
    "            for i in args:\n",
    "                result *= i\n",
    "        return result \n",
    "\n",
    "    res1 = add_mul('add'1,2,3)\n",
    "    print(res1)"
   ]
  },
  {
   "cell_type": "code",
   "execution_count": 5,
   "id": "ed7cf336",
   "metadata": {},
   "outputs": [
    {
     "name": "stdout",
     "output_type": "stream",
     "text": [
      "{'a': 1}\n",
      "{'name': 'foo', 'age': 3}\n"
     ]
    }
   ],
   "source": [
    "# 키워드 가변 매개변수(**매개변수)\n",
    "def print_kwargs(**kwargs):\n",
    "    print(kwargs)\n",
    "\n",
    "print_kwargs(a=1)\n",
    "\n",
    "print_kwargs(name='foo', age=3)"
   ]
  },
  {
   "cell_type": "code",
   "execution_count": 10,
   "id": "27de6c02-8e67-44fd-98df-7ba90917e14e",
   "metadata": {},
   "outputs": [
    {
     "name": "stdout",
     "output_type": "stream",
     "text": [
      "(7, 12)\n",
      "a+b =  7\n",
      "a*b +  12\n"
     ]
    }
   ],
   "source": [
    "# 함수의 리턴값은 하나!!\n",
    "def add_and_mul(a,b):\n",
    "    return a+b ,a*b\n",
    "\n",
    "res = add_and_mul(3,4)\n",
    "print(res)\n",
    "\n",
    "res1,res2 = add_and_mul(3,4)\n",
    "print(\"a+b = \",res1)\n",
    "print(\"a*b + \",res2)"
   ]
  },
  {
   "cell_type": "code",
   "execution_count": 13,
   "id": "d611dbc5-d3ff-4a75-bb8e-b77058d1def3",
   "metadata": {},
   "outputs": [
    {
     "name": "stdout",
     "output_type": "stream",
     "text": [
      "5\n"
     ]
    }
   ],
   "source": [
    "def add_and_mul(a,b):\n",
    "    return a+b\n",
    "    return a*b\n",
    "\n",
    "res = add_and_mul(2,3)\n",
    "print(res)\n"
   ]
  },
  {
   "cell_type": "code",
   "execution_count": 24,
   "id": "63f5ced5-0bf7-4e22-b85a-607fdc39eb70",
   "metadata": {},
   "outputs": [],
   "source": [
    "# return의 또 다른 쓰임새\n",
    "def say_nick(nick):\n",
    "    if nick == '바보':\n",
    "        return\n",
    "    print(\"나의 별명은 %s 입니다.\"%nick)\n",
    "\n",
    "    say_nick('야호')\n",
    "    say_nick('바보')"
   ]
  },
  {
   "cell_type": "code",
   "execution_count": 22,
   "id": "3dc70fb1-4c3a-4e18-be2d-3a32d5baaa37",
   "metadata": {
    "editable": true,
    "slideshow": {
     "slide_type": ""
    },
    "tags": []
   },
   "outputs": [
    {
     "name": "stdout",
     "output_type": "stream",
     "text": [
      "나의 이름은 송정민입니다.\n",
      "나이는 26살 입니다.\n",
      "남자입니다.\n",
      "나의 이름은 ㅇㅇㅇ입니다.\n",
      "나이는 20살 입니다.\n",
      "여자입니다.\n"
     ]
    }
   ],
   "source": [
    "# 매개변수에 초기값 설정\n",
    "def say_myself(name, age ,man=True):\n",
    "    print(f\"나의 이름은 {name}입니다.\")\n",
    "    print(f\"나이는 {age}살 입니다.\")\n",
    "    if man:\n",
    "        print(\"남자입니다.\")\n",
    "    else:\n",
    "        print(\"여자입니다.\")\n",
    "\n",
    "#함수 호출\n",
    "say_myself('송정민',26)\n",
    "\n",
    "say_myself('ㅇㅇㅇ',20 ,False)"
   ]
  },
  {
   "cell_type": "code",
   "execution_count": 27,
   "id": "0edaf7ae-ff7c-4482-9b51-6b41029a9930",
   "metadata": {},
   "outputs": [
    {
     "name": "stdout",
     "output_type": "stream",
     "text": [
      "1\n"
     ]
    }
   ],
   "source": [
    "# 함수의 유효범위\n",
    "a = 1\n",
    "def vartest(a):\n",
    "    a = a+1\n",
    "\n",
    "vartest(a) #아무것도 실행 안됨\n",
    "print(a) # 함수 밖에 있는 a가 출력됨"
   ]
  },
  {
   "cell_type": "code",
   "execution_count": 31,
   "id": "7e3a9cc9-5632-4d11-b327-ca7a21a0a0d9",
   "metadata": {},
   "outputs": [
    {
     "name": "stdout",
     "output_type": "stream",
     "text": [
      "2\n"
     ]
    }
   ],
   "source": [
    "# 함수의 유효범위 => 1. return 사용하기\n",
    "a = 1\n",
    "def vartest(x):\n",
    "    x = x+1\n",
    "    return x\n",
    "\n",
    "a = vartest(a) #함수 실행하면 a값 반환되고 a변수에 덮어씀.\n",
    "print(a)"
   ]
  },
  {
   "cell_type": "code",
   "execution_count": 35,
   "id": "aa52eba9-6652-4741-a5c7-765f6676f46e",
   "metadata": {},
   "outputs": [
    {
     "name": "stdout",
     "output_type": "stream",
     "text": [
      "2\n"
     ]
    }
   ],
   "source": [
    "# 함수의 유효범위 => 2. global 명령어 사용하기\n",
    "a = 1\n",
    "def vartest():\n",
    "    global a  #함수 안에서 a는 전역변수로 변경됨\n",
    "    a += 1\n",
    "\n",
    "vartest()\n",
    "print(a)"
   ]
  },
  {
   "cell_type": "code",
   "execution_count": 36,
   "id": "172bbc5e-9119-4cc9-b817-190677ff03fd",
   "metadata": {},
   "outputs": [
    {
     "name": "stdout",
     "output_type": "stream",
     "text": [
      "2\n"
     ]
    }
   ],
   "source": [
    "# lambda 표현식(예약어) 사용 안하고 함수 선언\n",
    "def add(a,b):\n",
    "    return a+b\n",
    "\n",
    "print(a)\n"
   ]
  },
  {
   "cell_type": "code",
   "execution_count": 37,
   "id": "ff3e7767-7ab4-4802-bd1e-dbe83e574f01",
   "metadata": {},
   "outputs": [
    {
     "name": "stdout",
     "output_type": "stream",
     "text": [
      "7\n"
     ]
    }
   ],
   "source": [
    "# lambda 표현식(예약어) 사용하여 표현\n",
    "add = lambda a,b : a+b\n",
    "print(add(3,4))"
   ]
  },
  {
   "cell_type": "markdown",
   "id": "b7968a57-0f69-414f-82f7-8df604de1459",
   "metadata": {},
   "source": [
    "## 2. 함수의 활용"
   ]
  },
  {
   "cell_type": "markdown",
   "id": "207982fb-0667-434d-bb4b-a381cc2ba955",
   "metadata": {},
   "source": [
    "### 1) 재귀함수\n",
    ":내가 만든 함수를 다시 호출하는 것"
   ]
  },
  {
   "cell_type": "code",
   "execution_count": 38,
   "id": "bd47d519-43c5-495f-8070-a6281fe75b1e",
   "metadata": {},
   "outputs": [
    {
     "name": "stdout",
     "output_type": "stream",
     "text": [
      "5! =  120\n"
     ]
    }
   ],
   "source": [
    "# 반복문으로 팩토리얼 구하기\n",
    "def factorial(n):\n",
    "    output = 1\n",
    "    for i in range(1,n+1):\n",
    "        output *=i\n",
    "    return output\n",
    "\n",
    "print('5! = ',factorial(5))"
   ]
  },
  {
   "cell_type": "code",
   "execution_count": 40,
   "id": "0a0b0b1b-21f0-4d10-b449-2296b80c4203",
   "metadata": {},
   "outputs": [
    {
     "name": "stdout",
     "output_type": "stream",
     "text": [
      "5! =  120\n"
     ]
    }
   ],
   "source": [
    "# 재귀 함수로 팩토리얼 구하기\n",
    "def factorial(n):\n",
    "    if n == 0:\n",
    "        return 1\n",
    "    else:\n",
    "        return n * factorial(n-1)\n",
    "    \n",
    "print('5! = ',factorial(5))"
   ]
  },
  {
   "cell_type": "markdown",
   "id": "9ae7e1f4-f5bd-4342-93f5-b4e8a0a96bf7",
   "metadata": {},
   "source": [
    "#### 2) 리스트 평탕화 하는 재귀 함수 만들기"
   ]
  },
  {
   "cell_type": "code",
   "execution_count": 48,
   "id": "d9d8e050-2cfa-49cc-a401-eee423ad4947",
   "metadata": {},
   "outputs": [
    {
     "name": "stdout",
     "output_type": "stream",
     "text": [
      "4\n",
      "원본:  [[1, 2, 3], [4, [5, 6]], 7, [8, 9]]\n",
      "평탄화 : [1, 2, 3, 4, [5, 6], 7, 8, 9]\n"
     ]
    }
   ],
   "source": [
    "# 반복문으로 리스트 평탄화\n",
    "def flatten(data):\n",
    "    output = []\n",
    "    for item in data:\n",
    "        if type(item) == list:\n",
    "            output += item\n",
    "        else:\n",
    "            output.append(item)\n",
    "    return output\n",
    "\n",
    "example = [[1,2,3,],[4,[5,6]],7,[8,9]]\n",
    "print(len(example))\n",
    "print('원본: ', example)\n",
    "print('평탄화 :', flatten(example))"
   ]
  },
  {
   "cell_type": "code",
   "execution_count": 49,
   "id": "2f5adef4-5bfd-432b-b324-f6ddd57563a7",
   "metadata": {},
   "outputs": [
    {
     "name": "stdout",
     "output_type": "stream",
     "text": [
      "원본:  [[1, 2, 3], [4, [5, 6]], 7, [8, 9]]\n",
      "평탄화 : [1, 2, 3, 4, 5, 6, 7, 8, 9]\n"
     ]
    }
   ],
   "source": [
    "# 재귀 함수로 리스트 평탄화\n",
    "def flatten(data):\n",
    "    output = []\n",
    "    for item in data:\n",
    "        if type(item) == list:\n",
    "            output += flatten(item)\n",
    "        else:\n",
    "            output.append(item)\n",
    "    return output\n",
    "\n",
    "example = [[1,2,3,],[4,[5,6]],7,[8,9]]\n",
    "print('원본: ', example)\n",
    "print('평탄화 :', flatten(example))"
   ]
  },
  {
   "cell_type": "code",
   "execution_count": null,
   "id": "a89ee6b0-3c8a-4f61-a820-f2e41af37e5c",
   "metadata": {},
   "outputs": [],
   "source": []
  }
 ],
 "metadata": {
  "kernelspec": {
   "display_name": "Python [conda env:base] *",
   "language": "python",
   "name": "conda-base-py"
  },
  "language_info": {
   "codemirror_mode": {
    "name": "ipython",
    "version": 3
   },
   "file_extension": ".py",
   "mimetype": "text/x-python",
   "name": "python",
   "nbconvert_exporter": "python",
   "pygments_lexer": "ipython3",
   "version": "3.13.5"
  }
 },
 "nbformat": 4,
 "nbformat_minor": 5
}
