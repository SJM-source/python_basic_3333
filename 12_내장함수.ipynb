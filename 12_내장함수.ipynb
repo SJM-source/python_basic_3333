{
 "cells": [
  {
   "cell_type": "markdown",
   "id": "d8129603-da58-4045-8ecd-3cc3fe99c69b",
   "metadata": {},
   "source": [
    "abs() : 절댓값"
   ]
  },
  {
   "cell_type": "code",
   "execution_count": 1,
   "id": "b7f8b6c5-82e3-4202-ace4-dab5edf33748",
   "metadata": {},
   "outputs": [
    {
     "name": "stdout",
     "output_type": "stream",
     "text": [
      "3\n",
      "3\n"
     ]
    }
   ],
   "source": [
    "print(abs(3))\n",
    "print(abs(-3))"
   ]
  },
  {
   "cell_type": "markdown",
   "id": "073c4ae2-1e64-4239-bde9-72923bbb5124",
   "metadata": {},
   "source": [
    "all() : 반복 가능한 데이터에서 각 요소 확인하여 모든 요소가 참이면 True"
   ]
  },
  {
   "cell_type": "code",
   "execution_count": 2,
   "id": "bd41b5e8-9ba7-4f3e-a964-3fd03a673f33",
   "metadata": {},
   "outputs": [
    {
     "data": {
      "text/plain": [
       "True"
      ]
     },
     "execution_count": 2,
     "metadata": {},
     "output_type": "execute_result"
    }
   ],
   "source": [
    "all([1,2,3])"
   ]
  },
  {
   "cell_type": "code",
   "execution_count": 3,
   "id": "b1465a2b-73f0-4496-95df-dc7db8e77b62",
   "metadata": {},
   "outputs": [
    {
     "data": {
      "text/plain": [
       "False"
      ]
     },
     "execution_count": 3,
     "metadata": {},
     "output_type": "execute_result"
    }
   ],
   "source": [
    "all((0,[],\"\"))"
   ]
  },
  {
   "cell_type": "code",
   "execution_count": 4,
   "id": "7e51457a-a2b6-4ea6-b24a-b061ed861fa1",
   "metadata": {},
   "outputs": [
    {
     "data": {
      "text/plain": [
       "False"
      ]
     },
     "execution_count": 4,
     "metadata": {},
     "output_type": "execute_result"
    }
   ],
   "source": [
    "all((0, 1,2,3))"
   ]
  },
  {
   "cell_type": "code",
   "execution_count": 5,
   "id": "afe51f1c-596b-4023-b631-1e049c629b5d",
   "metadata": {},
   "outputs": [
    {
     "data": {
      "text/plain": [
       "True"
      ]
     },
     "execution_count": 5,
     "metadata": {},
     "output_type": "execute_result"
    }
   ],
   "source": [
    "all([])"
   ]
  },
  {
   "cell_type": "code",
   "execution_count": 7,
   "id": "a3e14b74-baf1-4f1e-a47a-eca33e90f7d0",
   "metadata": {},
   "outputs": [
    {
     "data": {
      "text/plain": [
       "True"
      ]
     },
     "execution_count": 7,
     "metadata": {},
     "output_type": "execute_result"
    }
   ],
   "source": [
    "all(\"\") #빈 값인 경우 True"
   ]
  },
  {
   "cell_type": "markdown",
   "id": "59ddd3af-dba2-4d91-b586-ad71bacac2b8",
   "metadata": {},
   "source": [
    "any() : 반복 가능한 데이터에서 각 요소에 하나라도 참이면 True"
   ]
  },
  {
   "cell_type": "code",
   "execution_count": 9,
   "id": "990b9ec0-e63c-4d6c-b3cf-88393549845e",
   "metadata": {},
   "outputs": [
    {
     "data": {
      "text/plain": [
       "True"
      ]
     },
     "execution_count": 9,
     "metadata": {},
     "output_type": "execute_result"
    }
   ],
   "source": [
    "any([1,0])"
   ]
  },
  {
   "cell_type": "code",
   "execution_count": 10,
   "id": "23a8b356-56a7-424e-8541-d19b028679b6",
   "metadata": {},
   "outputs": [
    {
     "data": {
      "text/plain": [
       "False"
      ]
     },
     "execution_count": 10,
     "metadata": {},
     "output_type": "execute_result"
    }
   ],
   "source": [
    "any([0 ,\"\"])"
   ]
  },
  {
   "cell_type": "code",
   "execution_count": 11,
   "id": "7d354b1e-a04d-4cd3-a844-16249e888e74",
   "metadata": {},
   "outputs": [
    {
     "data": {
      "text/plain": [
       "False"
      ]
     },
     "execution_count": 11,
     "metadata": {},
     "output_type": "execute_result"
    }
   ],
   "source": [
    "any([]) # 빈 값은 false"
   ]
  },
  {
   "cell_type": "markdown",
   "id": "b5136f63-1f0f-446c-9018-b6b79c916ac3",
   "metadata": {},
   "source": [
    "chr() : 유니코드 값 변환"
   ]
  },
  {
   "cell_type": "code",
   "execution_count": 12,
   "id": "70c49c45-972b-4941-8489-d4c932adfe4f",
   "metadata": {},
   "outputs": [
    {
     "data": {
      "text/plain": [
       "'a'"
      ]
     },
     "execution_count": 12,
     "metadata": {},
     "output_type": "execute_result"
    }
   ],
   "source": [
    "chr(97)"
   ]
  },
  {
   "cell_type": "code",
   "execution_count": 13,
   "id": "e1ac369c-ef33-4182-8757-c3084b07c156",
   "metadata": {},
   "outputs": [
    {
     "data": {
      "text/plain": [
       "'A'"
      ]
     },
     "execution_count": 13,
     "metadata": {},
     "output_type": "execute_result"
    }
   ],
   "source": [
    "chr(65)"
   ]
  },
  {
   "cell_type": "code",
   "execution_count": 14,
   "id": "0c7fb516-f05a-4546-b52a-e195352c2081",
   "metadata": {},
   "outputs": [
    {
     "data": {
      "text/plain": [
       "'가'"
      ]
     },
     "execution_count": 14,
     "metadata": {},
     "output_type": "execute_result"
    }
   ],
   "source": [
    "chr(44032)"
   ]
  },
  {
   "cell_type": "markdown",
   "id": "1ced4c5d-7aa6-4917-8f75-e081000371f8",
   "metadata": {},
   "source": [
    "dir() : 객체가 지닌 변수나 함수를 보여주는 함수"
   ]
  },
  {
   "cell_type": "code",
   "execution_count": 15,
   "id": "c931c16b-7881-464c-addd-6345e45db89b",
   "metadata": {},
   "outputs": [
    {
     "data": {
      "text/plain": [
       "['__add__',\n",
       " '__class__',\n",
       " '__class_getitem__',\n",
       " '__contains__',\n",
       " '__delattr__',\n",
       " '__delitem__',\n",
       " '__dir__',\n",
       " '__doc__',\n",
       " '__eq__',\n",
       " '__format__',\n",
       " '__ge__',\n",
       " '__getattribute__',\n",
       " '__getitem__',\n",
       " '__getstate__',\n",
       " '__gt__',\n",
       " '__hash__',\n",
       " '__iadd__',\n",
       " '__imul__',\n",
       " '__init__',\n",
       " '__init_subclass__',\n",
       " '__iter__',\n",
       " '__le__',\n",
       " '__len__',\n",
       " '__lt__',\n",
       " '__mul__',\n",
       " '__ne__',\n",
       " '__new__',\n",
       " '__reduce__',\n",
       " '__reduce_ex__',\n",
       " '__repr__',\n",
       " '__reversed__',\n",
       " '__rmul__',\n",
       " '__setattr__',\n",
       " '__setitem__',\n",
       " '__sizeof__',\n",
       " '__str__',\n",
       " '__subclasshook__',\n",
       " 'append',\n",
       " 'clear',\n",
       " 'copy',\n",
       " 'count',\n",
       " 'extend',\n",
       " 'index',\n",
       " 'insert',\n",
       " 'pop',\n",
       " 'remove',\n",
       " 'reverse',\n",
       " 'sort']"
      ]
     },
     "execution_count": 15,
     "metadata": {},
     "output_type": "execute_result"
    }
   ],
   "source": [
    "dir([1,2,3])"
   ]
  },
  {
   "cell_type": "code",
   "execution_count": 16,
   "id": "a629aced-098f-4e32-adc0-6205a843ad3b",
   "metadata": {},
   "outputs": [
    {
     "data": {
      "text/plain": [
       "['__add__',\n",
       " '__class__',\n",
       " '__contains__',\n",
       " '__delattr__',\n",
       " '__dir__',\n",
       " '__doc__',\n",
       " '__eq__',\n",
       " '__format__',\n",
       " '__ge__',\n",
       " '__getattribute__',\n",
       " '__getitem__',\n",
       " '__getnewargs__',\n",
       " '__getstate__',\n",
       " '__gt__',\n",
       " '__hash__',\n",
       " '__init__',\n",
       " '__init_subclass__',\n",
       " '__iter__',\n",
       " '__le__',\n",
       " '__len__',\n",
       " '__lt__',\n",
       " '__mod__',\n",
       " '__mul__',\n",
       " '__ne__',\n",
       " '__new__',\n",
       " '__reduce__',\n",
       " '__reduce_ex__',\n",
       " '__repr__',\n",
       " '__rmod__',\n",
       " '__rmul__',\n",
       " '__setattr__',\n",
       " '__sizeof__',\n",
       " '__str__',\n",
       " '__subclasshook__',\n",
       " 'capitalize',\n",
       " 'casefold',\n",
       " 'center',\n",
       " 'count',\n",
       " 'encode',\n",
       " 'endswith',\n",
       " 'expandtabs',\n",
       " 'find',\n",
       " 'format',\n",
       " 'format_map',\n",
       " 'index',\n",
       " 'isalnum',\n",
       " 'isalpha',\n",
       " 'isascii',\n",
       " 'isdecimal',\n",
       " 'isdigit',\n",
       " 'isidentifier',\n",
       " 'islower',\n",
       " 'isnumeric',\n",
       " 'isprintable',\n",
       " 'isspace',\n",
       " 'istitle',\n",
       " 'isupper',\n",
       " 'join',\n",
       " 'ljust',\n",
       " 'lower',\n",
       " 'lstrip',\n",
       " 'maketrans',\n",
       " 'partition',\n",
       " 'removeprefix',\n",
       " 'removesuffix',\n",
       " 'replace',\n",
       " 'rfind',\n",
       " 'rindex',\n",
       " 'rjust',\n",
       " 'rpartition',\n",
       " 'rsplit',\n",
       " 'rstrip',\n",
       " 'split',\n",
       " 'splitlines',\n",
       " 'startswith',\n",
       " 'strip',\n",
       " 'swapcase',\n",
       " 'title',\n",
       " 'translate',\n",
       " 'upper',\n",
       " 'zfill']"
      ]
     },
     "execution_count": 16,
     "metadata": {},
     "output_type": "execute_result"
    }
   ],
   "source": [
    "dir(\"\")"
   ]
  },
  {
   "cell_type": "code",
   "execution_count": 17,
   "id": "fa8b8394-fc51-4e17-a734-8973cc98f413",
   "metadata": {},
   "outputs": [
    {
     "data": {
      "text/plain": [
       "['__class__',\n",
       " '__class_getitem__',\n",
       " '__contains__',\n",
       " '__delattr__',\n",
       " '__delitem__',\n",
       " '__dir__',\n",
       " '__doc__',\n",
       " '__eq__',\n",
       " '__format__',\n",
       " '__ge__',\n",
       " '__getattribute__',\n",
       " '__getitem__',\n",
       " '__getstate__',\n",
       " '__gt__',\n",
       " '__hash__',\n",
       " '__init__',\n",
       " '__init_subclass__',\n",
       " '__ior__',\n",
       " '__iter__',\n",
       " '__le__',\n",
       " '__len__',\n",
       " '__lt__',\n",
       " '__ne__',\n",
       " '__new__',\n",
       " '__or__',\n",
       " '__reduce__',\n",
       " '__reduce_ex__',\n",
       " '__repr__',\n",
       " '__reversed__',\n",
       " '__ror__',\n",
       " '__setattr__',\n",
       " '__setitem__',\n",
       " '__sizeof__',\n",
       " '__str__',\n",
       " '__subclasshook__',\n",
       " 'clear',\n",
       " 'copy',\n",
       " 'fromkeys',\n",
       " 'get',\n",
       " 'items',\n",
       " 'keys',\n",
       " 'pop',\n",
       " 'popitem',\n",
       " 'setdefault',\n",
       " 'update',\n",
       " 'values']"
      ]
     },
     "execution_count": 17,
     "metadata": {},
     "output_type": "execute_result"
    }
   ],
   "source": [
    "dir({'1':'a'})"
   ]
  },
  {
   "cell_type": "markdown",
   "id": "5c017f40-07ed-4e6e-9f6d-0c5af49bdefc",
   "metadata": {},
   "source": [
    "divmod() : 두 수 나누기 몫과 나머지를 튜플로 변환"
   ]
  },
  {
   "cell_type": "code",
   "execution_count": 18,
   "id": "8d2cdc70-69b0-4800-8129-5fada2151c35",
   "metadata": {},
   "outputs": [
    {
     "data": {
      "text/plain": [
       "(2, 1)"
      ]
     },
     "execution_count": 18,
     "metadata": {},
     "output_type": "execute_result"
    }
   ],
   "source": [
    "divmod(7,3)"
   ]
  },
  {
   "cell_type": "code",
   "execution_count": 19,
   "id": "a06fbe71-be98-4bb4-a336-647170d10c3b",
   "metadata": {},
   "outputs": [
    {
     "data": {
      "text/plain": [
       "2"
      ]
     },
     "execution_count": 19,
     "metadata": {},
     "output_type": "execute_result"
    }
   ],
   "source": [
    "7//3"
   ]
  },
  {
   "cell_type": "code",
   "execution_count": 20,
   "id": "95ab4c60-d189-4fd9-89e6-7042f765315d",
   "metadata": {},
   "outputs": [
    {
     "data": {
      "text/plain": [
       "1"
      ]
     },
     "execution_count": 20,
     "metadata": {},
     "output_type": "execute_result"
    }
   ],
   "source": [
    "7%3"
   ]
  },
  {
   "cell_type": "markdown",
   "id": "bf6cb940-b021-4845-a978-783e0ffc8c05",
   "metadata": {},
   "source": [
    "enumerate() : 순서가 있는 데이터의 인덱스 값을 포함하는 enumerate"
   ]
  },
  {
   "cell_type": "code",
   "execution_count": 21,
   "id": "fbb28fca-edb6-4f60-945b-ddc4b4538b6a",
   "metadata": {},
   "outputs": [
    {
     "name": "stdout",
     "output_type": "stream",
     "text": [
      "0 boody\n",
      "1 foo\n",
      "2 bar\n"
     ]
    }
   ],
   "source": [
    "for i, name in enumerate(['boody', 'foo', 'bar']):\n",
    "    print(i,name)"
   ]
  },
  {
   "cell_type": "code",
   "execution_count": 29,
   "id": "308e53ee-e96b-4f48-8246-e75c5eabb3bb",
   "metadata": {},
   "outputs": [
    {
     "name": "stdout",
     "output_type": "stream",
     "text": [
      "0 ('a', 1)\n",
      "1 ('b', 2)\n",
      "2 ('c', 3)\n"
     ]
    }
   ],
   "source": [
    "for i , k in enumerate({'a':1, 'b': 2 , 'c': 3}.items()):\n",
    "    print(i,k)           # [('a':1),('b':2),('c':3)]"
   ]
  },
  {
   "cell_type": "markdown",
   "id": "5f2f2d2b-fa1a-425f-ada9-ae08a27e9a60",
   "metadata": {},
   "source": [
    "eval() : 표현식(문자열)을 실행한 결과값을 리턴"
   ]
  },
  {
   "cell_type": "code",
   "execution_count": 25,
   "id": "3acd5589-b1f5-4a83-acc0-0c485582878d",
   "metadata": {},
   "outputs": [
    {
     "name": "stdout",
     "output_type": "stream",
     "text": [
      "1+2\n"
     ]
    }
   ],
   "source": [
    "print(\"1+2\")"
   ]
  },
  {
   "cell_type": "code",
   "execution_count": 26,
   "id": "14c3dd6c-e7c1-47a3-8338-603e5e5cc3f1",
   "metadata": {},
   "outputs": [
    {
     "name": "stdout",
     "output_type": "stream",
     "text": [
      "3\n"
     ]
    }
   ],
   "source": [
    "print(eval(\"1+2\"))"
   ]
  },
  {
   "cell_type": "code",
   "execution_count": 27,
   "id": "ad574dd6-f265-489d-b160-d0ad93c6e9be",
   "metadata": {},
   "outputs": [
    {
     "data": {
      "text/plain": [
       "'hia'"
      ]
     },
     "execution_count": 27,
     "metadata": {},
     "output_type": "execute_result"
    }
   ],
   "source": [
    "eval(\"'hi' + 'a'\")"
   ]
  },
  {
   "cell_type": "markdown",
   "id": "7ffb6e15-934d-438f-972d-e7f7ad503bc0",
   "metadata": {},
   "source": [
    "filter() : filter안에서 정의한 함수의 결과값이 참인 것만 반환"
   ]
  },
  {
   "cell_type": "code",
   "execution_count": 30,
   "id": "8f6aefe4-a441-4e0e-bc09-5e00dea36475",
   "metadata": {},
   "outputs": [
    {
     "name": "stdout",
     "output_type": "stream",
     "text": [
      "[1, 2, 6]\n"
     ]
    }
   ],
   "source": [
    "# 일반함수로 양수값만 리턴\n",
    "def positive(list):\n",
    "    result = []\n",
    "    for i in list:\n",
    "        if i>0:\n",
    "            result.append(i)\n",
    "    return result\n",
    "\n",
    "print(positive([1,-3,2,0,-5,6]))"
   ]
  },
  {
   "cell_type": "code",
   "execution_count": 32,
   "id": "2319ee5c-aebf-4a8c-8be3-333ea08a9a77",
   "metadata": {},
   "outputs": [
    {
     "name": "stdout",
     "output_type": "stream",
     "text": [
      "[1, 2, 6]\n"
     ]
    }
   ],
   "source": [
    "# filter 함수로 양수값만 반환\n",
    "def positive(x):\n",
    "    return x>0\n",
    "\n",
    "print(list(filter(positive,[1,-3,2,0,-5,6] )))"
   ]
  },
  {
   "cell_type": "code",
   "execution_count": 35,
   "id": "37e3c16d-8656-4140-8b3a-57eadb3ef16e",
   "metadata": {},
   "outputs": [
    {
     "data": {
      "text/plain": [
       "[1, 2, 0, 6]"
      ]
     },
     "execution_count": 35,
     "metadata": {},
     "output_type": "execute_result"
    }
   ],
   "source": [
    "# lambda 함수로 양수값만 리턴\n",
    "list(filter(lambda x:x >= 0,[1,-3,2,0,-5,6]))"
   ]
  },
  {
   "cell_type": "markdown",
   "id": "df9cf604-9062-4052-905e-d844f0181bb0",
   "metadata": {},
   "source": [
    "map() : map안에서 선언한 함수의 결과값을 반환"
   ]
  },
  {
   "cell_type": "code",
   "execution_count": 36,
   "id": "166b3c9c-d1fe-40ab-9970-e0472aa66270",
   "metadata": {},
   "outputs": [
    {
     "name": "stdout",
     "output_type": "stream",
     "text": [
      "[2, 4, 6, 8]\n"
     ]
    }
   ],
   "source": [
    "# 일반함수로 리스트에 각 요소에 *2\n",
    "def two_times(list):\n",
    "    result = []\n",
    "    for i in list:\n",
    "        result.append(i*2)\n",
    "    return result\n",
    "\n",
    "print(two_times([1,2,3,4]))"
   ]
  },
  {
   "cell_type": "code",
   "execution_count": 37,
   "id": "d1012808-1d95-4efe-8084-4c7aa157a200",
   "metadata": {},
   "outputs": [
    {
     "data": {
      "text/plain": [
       "[2, 4, 6, 8]"
      ]
     },
     "execution_count": 37,
     "metadata": {},
     "output_type": "execute_result"
    }
   ],
   "source": [
    "# map 합수로 리스트 각 요소에 *2\n",
    "def two_times(x):\n",
    "    return x*2\n",
    "\n",
    "list(map(two_times, [1,2,3,4]))"
   ]
  },
  {
   "cell_type": "code",
   "execution_count": 38,
   "id": "690e5ef9-367e-4ad1-b516-17d499336159",
   "metadata": {},
   "outputs": [
    {
     "data": {
      "text/plain": [
       "[2, 4, 6, 8]"
      ]
     },
     "execution_count": 38,
     "metadata": {},
     "output_type": "execute_result"
    }
   ],
   "source": [
    "# lambda 함수로\n",
    "list(map(lambda x:x*2, [1,2,3,4]))"
   ]
  },
  {
   "cell_type": "markdown",
   "id": "425ef3db-077a-4db0-801c-2523cc2dc070",
   "metadata": {},
   "source": [
    "hex() : 정수를 받아서 16진수로\n"
   ]
  },
  {
   "cell_type": "code",
   "execution_count": 40,
   "id": "719710ea-4d22-4655-9ea3-20efd7541ea7",
   "metadata": {},
   "outputs": [
    {
     "name": "stdout",
     "output_type": "stream",
     "text": [
      "0xea\n",
      "0x3\n",
      "0xd\n",
      "0x10\n"
     ]
    }
   ],
   "source": [
    "print(hex(234))\n",
    "print(hex(3))\n",
    "print(hex(13))\n",
    "print(hex(16))"
   ]
  },
  {
   "cell_type": "markdown",
   "id": "7a780bdb-bdb8-45f2-8831-02ae49d8fcda",
   "metadata": {},
   "source": [
    "id () : 객체의 주소값 확인"
   ]
  },
  {
   "cell_type": "code",
   "execution_count": 41,
   "id": "c8e941e4-3619-4a36-a4c0-4cc6c07b1713",
   "metadata": {},
   "outputs": [],
   "source": [
    "a = 3"
   ]
  },
  {
   "cell_type": "code",
   "execution_count": 42,
   "id": "03081cb6-92f7-461e-9172-587525ea1c39",
   "metadata": {},
   "outputs": [
    {
     "data": {
      "text/plain": [
       "140703836451816"
      ]
     },
     "execution_count": 42,
     "metadata": {},
     "output_type": "execute_result"
    }
   ],
   "source": [
    "id(a)"
   ]
  },
  {
   "cell_type": "code",
   "execution_count": 44,
   "id": "b03550a3-1a0d-4190-a3b7-4c8403a7cff2",
   "metadata": {},
   "outputs": [
    {
     "data": {
      "text/plain": [
       "140703836451816"
      ]
     },
     "execution_count": 44,
     "metadata": {},
     "output_type": "execute_result"
    }
   ],
   "source": [
    "b = a\n",
    "id(b)"
   ]
  },
  {
   "cell_type": "markdown",
   "id": "c18cb65d-976e-4e46-833c-b09926d10bff",
   "metadata": {},
   "source": [
    "isinstance() : 객체가 그 클래스의 인스턴스인지 판단"
   ]
  },
  {
   "cell_type": "code",
   "execution_count": 46,
   "id": "a22ed25a-7791-4cbe-a21f-0ba09417b10b",
   "metadata": {},
   "outputs": [
    {
     "name": "stdout",
     "output_type": "stream",
     "text": [
      "True\n"
     ]
    }
   ],
   "source": [
    "class Person:pass\n",
    "\n",
    "a = Person()  #a는 Person의 인스턴스\n",
    "print(isinstance(a, Person))"
   ]
  },
  {
   "cell_type": "code",
   "execution_count": 48,
   "id": "de19c72d-0d45-45b4-923f-f75e915f0b7c",
   "metadata": {},
   "outputs": [
    {
     "data": {
      "text/plain": [
       "False"
      ]
     },
     "execution_count": 48,
     "metadata": {},
     "output_type": "execute_result"
    }
   ],
   "source": [
    "b=3\n",
    "isinstance(b,Person)"
   ]
  },
  {
   "cell_type": "markdown",
   "id": "8ef6e55d-5ac7-4e48-a002-11958c7cf873",
   "metadata": {},
   "source": [
    "max() : 최대값 min() : 최솟값"
   ]
  },
  {
   "cell_type": "code",
   "execution_count": 50,
   "id": "4519ad0b-b2b7-4107-b101-ccc39dfb0d99",
   "metadata": {},
   "outputs": [
    {
     "name": "stdout",
     "output_type": "stream",
     "text": [
      "3\n",
      "y\n"
     ]
    }
   ],
   "source": [
    "print(max([1,2,3]))\n",
    "print(max(\"python\"))"
   ]
  },
  {
   "cell_type": "code",
   "execution_count": 51,
   "id": "fee1ac8c-e2c3-4fe9-b092-d53332827018",
   "metadata": {},
   "outputs": [
    {
     "name": "stdout",
     "output_type": "stream",
     "text": [
      "1\n",
      "h\n"
     ]
    }
   ],
   "source": [
    "print(min([1,2,3]))\n",
    "print(min(\"python\"))"
   ]
  },
  {
   "cell_type": "markdown",
   "id": "52c8255f-79ab-4a4a-bc4c-dfb62c531f9a",
   "metadata": {},
   "source": [
    "ord() : chr()반대, 문자를 전달인자로 넣으면 유니코드 값 반환"
   ]
  },
  {
   "cell_type": "code",
   "execution_count": 52,
   "id": "e823225b-9780-403d-b75f-8d4847fc28c6",
   "metadata": {},
   "outputs": [
    {
     "name": "stdout",
     "output_type": "stream",
     "text": [
      "97\n",
      "65\n",
      "48\n"
     ]
    }
   ],
   "source": [
    "print(ord('a'))\n",
    "print(ord('A'))\n",
    "print(ord('0'))"
   ]
  },
  {
   "cell_type": "markdown",
   "id": "8c6517a1-0565-4701-afbf-f70ae05c281d",
   "metadata": {},
   "source": [
    "range() : 범위값을 반복 가능한 객체로 만들어 리턴"
   ]
  },
  {
   "cell_type": "code",
   "execution_count": 53,
   "id": "57861c42-b301-4980-935e-d3cbac11e4fe",
   "metadata": {},
   "outputs": [
    {
     "data": {
      "text/plain": [
       "[0, 1, 2, 3, 4]"
      ]
     },
     "execution_count": 53,
     "metadata": {},
     "output_type": "execute_result"
    }
   ],
   "source": [
    "# 인수가 하나일 때 \n",
    "list(range(5))"
   ]
  },
  {
   "cell_type": "code",
   "execution_count": 54,
   "id": "94744d83-1bfb-4a16-ad38-79c744b41496",
   "metadata": {},
   "outputs": [
    {
     "data": {
      "text/plain": [
       "[5, 6, 7, 8, 9]"
      ]
     },
     "execution_count": 54,
     "metadata": {},
     "output_type": "execute_result"
    }
   ],
   "source": [
    "# 인수가 두개일 때\n",
    "list(range(5,10))"
   ]
  },
  {
   "cell_type": "code",
   "execution_count": 55,
   "id": "5a48b43e-6792-49eb-a5e7-c11c47062b0c",
   "metadata": {},
   "outputs": [
    {
     "data": {
      "text/plain": [
       "[1, 3, 5, 7, 9]"
      ]
     },
     "execution_count": 55,
     "metadata": {},
     "output_type": "execute_result"
    }
   ],
   "source": [
    "# 인수가 3개일 때\n",
    "list(range(1,10,2))"
   ]
  },
  {
   "cell_type": "code",
   "execution_count": 56,
   "id": "b10191b5-e246-4895-a629-74e2a7247cdc",
   "metadata": {},
   "outputs": [
    {
     "data": {
      "text/plain": [
       "[0, -1, -2, -3, -4, -5, -6, -7, -8, -9]"
      ]
     },
     "execution_count": 56,
     "metadata": {},
     "output_type": "execute_result"
    }
   ],
   "source": [
    "list(range(0,-10,-1))"
   ]
  },
  {
   "cell_type": "markdown",
   "id": "09e9d63c-ed84-455b-ab28-8fbd9436b308",
   "metadata": {},
   "source": [
    "sorted() : 정렬한 결과를 리스트로 반환"
   ]
  },
  {
   "cell_type": "code",
   "execution_count": 57,
   "id": "1baf09e5-9d52-48de-a022-43e3c6ac0b83",
   "metadata": {},
   "outputs": [
    {
     "data": {
      "text/plain": [
       "[1, 2, 3]"
      ]
     },
     "execution_count": 57,
     "metadata": {},
     "output_type": "execute_result"
    }
   ],
   "source": [
    "sorted([3,1,2])"
   ]
  },
  {
   "cell_type": "code",
   "execution_count": 58,
   "id": "9c4ef784-7855-47dc-b0c4-91da1e179471",
   "metadata": {},
   "outputs": [
    {
     "data": {
      "text/plain": [
       "['a', 'c', 'q']"
      ]
     },
     "execution_count": 58,
     "metadata": {},
     "output_type": "execute_result"
    }
   ],
   "source": [
    "sorted(['c','a','q'])"
   ]
  },
  {
   "cell_type": "code",
   "execution_count": 60,
   "id": "61136613-ef2b-497c-a694-9d4b210fa404",
   "metadata": {},
   "outputs": [
    {
     "data": {
      "text/plain": [
       "['e', 'o', 'r', 'z']"
      ]
     },
     "execution_count": 60,
     "metadata": {},
     "output_type": "execute_result"
    }
   ],
   "source": [
    "sorted(\"zero\")"
   ]
  },
  {
   "cell_type": "markdown",
   "id": "675e99bd-7f68-4bd4-9d38-3a840060ffd3",
   "metadata": {},
   "source": [
    "zip() : 동일한 개수로 이루어진 반복되는 데이터를 묶어서 리턴"
   ]
  },
  {
   "cell_type": "code",
   "execution_count": 62,
   "id": "bbc3ccf8-3c74-4251-8685-cd001accc74d",
   "metadata": {},
   "outputs": [
    {
     "data": {
      "text/plain": [
       "[(1, 2), (2, 3), (3, 4)]"
      ]
     },
     "execution_count": 62,
     "metadata": {},
     "output_type": "execute_result"
    }
   ],
   "source": [
    "list(zip([1,2,3], [2,3,4]))"
   ]
  },
  {
   "cell_type": "code",
   "execution_count": 63,
   "id": "05f11a06-8c1c-4b76-822d-24b60979f821",
   "metadata": {},
   "outputs": [
    {
     "data": {
      "text/plain": [
       "[(1, 6), (2, 7), (3, 8)]"
      ]
     },
     "execution_count": 63,
     "metadata": {},
     "output_type": "execute_result"
    }
   ],
   "source": [
    "list(zip([1,2,3,4,5],[6,7,8]))"
   ]
  },
  {
   "cell_type": "code",
   "execution_count": 64,
   "id": "1defb160-f06a-42f0-8098-06381f17320b",
   "metadata": {},
   "outputs": [
    {
     "data": {
      "text/plain": [
       "[('a', 'd'), ('b', 'e'), ('c', 'f')]"
      ]
     },
     "execution_count": 64,
     "metadata": {},
     "output_type": "execute_result"
    }
   ],
   "source": [
    "list(zip(\"abc\", \"def\"))"
   ]
  },
  {
   "cell_type": "code",
   "execution_count": 65,
   "id": "e8787092-02da-4de2-af0d-479e38f88cbb",
   "metadata": {},
   "outputs": [
    {
     "data": {
      "text/plain": [
       "[(1, 4), (2, 5), (3, 6)]"
      ]
     },
     "execution_count": 65,
     "metadata": {},
     "output_type": "execute_result"
    }
   ],
   "source": [
    "list(zip((1,2,3),(4,5,6)))"
   ]
  },
  {
   "cell_type": "code",
   "execution_count": null,
   "id": "885012a5-a4e1-436f-985e-ebbb8fae4277",
   "metadata": {},
   "outputs": [],
   "source": []
  }
 ],
 "metadata": {
  "kernelspec": {
   "display_name": "Python [conda env:base] *",
   "language": "python",
   "name": "conda-base-py"
  },
  "language_info": {
   "codemirror_mode": {
    "name": "ipython",
    "version": 3
   },
   "file_extension": ".py",
   "mimetype": "text/x-python",
   "name": "python",
   "nbconvert_exporter": "python",
   "pygments_lexer": "ipython3",
   "version": "3.13.5"
  }
 },
 "nbformat": 4,
 "nbformat_minor": 5
}
