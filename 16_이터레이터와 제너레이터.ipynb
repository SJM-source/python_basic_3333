{
 "cells": [
  {
   "cell_type": "markdown",
   "id": "6bd2d445-5753-42ca-9778-806539cd3101",
   "metadata": {},
   "source": [
    "##  1. 이터레이터란?"
   ]
  },
  {
   "cell_type": "code",
   "execution_count": 1,
   "id": "4edf6ab7-7595-41a9-9fb4-deb2d5113751",
   "metadata": {},
   "outputs": [
    {
     "ename": "TypeError",
     "evalue": "'list' object is not an iterator",
     "output_type": "error",
     "traceback": [
      "\u001b[1;31m---------------------------------------------------------------------------\u001b[0m",
      "\u001b[1;31mTypeError\u001b[0m                                 Traceback (most recent call last)",
      "Cell \u001b[1;32mIn[1], line 2\u001b[0m\n\u001b[0;32m      1\u001b[0m a \u001b[38;5;241m=\u001b[39m [\u001b[38;5;241m1\u001b[39m,\u001b[38;5;241m2\u001b[39m,\u001b[38;5;241m3\u001b[39m]\n\u001b[1;32m----> 2\u001b[0m \u001b[38;5;28mnext\u001b[39m(a)\n",
      "\u001b[1;31mTypeError\u001b[0m: 'list' object is not an iterator"
     ]
    }
   ],
   "source": [
    "a = [1,2,3]\n",
    "next(a)"
   ]
  },
  {
   "cell_type": "code",
   "execution_count": 3,
   "id": "35502228-1111-4aa8-95b1-812949b20658",
   "metadata": {},
   "outputs": [
    {
     "data": {
      "text/plain": [
       "list_iterator"
      ]
     },
     "execution_count": 3,
     "metadata": {},
     "output_type": "execute_result"
    }
   ],
   "source": [
    "# 리스트를 iter()함수로 이터레이터 객체로 변환\n",
    "\n",
    "ia =iter(a)\n",
    "type(ia)"
   ]
  },
  {
   "cell_type": "code",
   "execution_count": 6,
   "id": "29babcc7-afd3-4181-b6de-81f20e49991c",
   "metadata": {},
   "outputs": [
    {
     "data": {
      "text/plain": [
       "3"
      ]
     },
     "execution_count": 6,
     "metadata": {},
     "output_type": "execute_result"
    }
   ],
   "source": [
    "ia= iter(a)\n",
    "next(ia)\n",
    "next(ia)\n",
    "next(ia)"
   ]
  },
  {
   "cell_type": "code",
   "execution_count": null,
   "id": "55702c40-79d2-4c3a-841c-a33866733dec",
   "metadata": {},
   "outputs": [],
   "source": [
    "#전부 꺼내면 stopiteration이 raise 된다."
   ]
  },
  {
   "cell_type": "code",
   "execution_count": 7,
   "id": "890dd2a9-72f8-45b0-abf9-2031f83e7132",
   "metadata": {},
   "outputs": [
    {
     "name": "stdout",
     "output_type": "stream",
     "text": [
      "1\n",
      "2\n",
      "3\n"
     ]
    }
   ],
   "source": [
    "# 이터레이터의 값을 가져오는 일반적인 방법(for문)\n",
    "a =[1,2,3]\n",
    "ia =iter(a)\n",
    "for i in ia:\n",
    "    print(i)"
   ]
  },
  {
   "cell_type": "code",
   "execution_count": 8,
   "id": "fa311bc3-dcd4-4e24-8019-28889a092c2c",
   "metadata": {},
   "outputs": [],
   "source": [
    "#이터레이터 개체는 for문이나 next()로 그 값을 한번 읽으면 다시 읽을수 없음.\n",
    "for i in ia:\n",
    "    print(i)"
   ]
  },
  {
   "cell_type": "markdown",
   "id": "9bff351a-4a24-452a-90f7-d0aca275c42b",
   "metadata": {},
   "source": [
    "### 2. 제너레이터란?"
   ]
  },
  {
   "cell_type": "code",
   "execution_count": 9,
   "id": "ce63c1e3-b5e5-4762-80d2-7a973b15b47c",
   "metadata": {},
   "outputs": [],
   "source": [
    "#return 대신 yield 키워드 사용 값을 반환하고 종료하는것이아닌 일시정지처리"
   ]
  },
  {
   "cell_type": "code",
   "execution_count": 10,
   "id": "a5904ec4-a411-4e9f-9feb-0e7e7f19017f",
   "metadata": {},
   "outputs": [],
   "source": [
    "#가장 간단한 제너레이터\n",
    "def mygen():\n",
    "    yield 'a'\n",
    "    yield 'b'\n",
    "    yield 'c'"
   ]
  },
  {
   "cell_type": "code",
   "execution_count": 11,
   "id": "6bd3703d-360f-452e-98a0-4461b48e5171",
   "metadata": {},
   "outputs": [],
   "source": [
    "g=mygen()"
   ]
  },
  {
   "cell_type": "code",
   "execution_count": 12,
   "id": "8fdeb023-afc5-45a6-93e8-4619546978fa",
   "metadata": {},
   "outputs": [
    {
     "data": {
      "text/plain": [
       "generator"
      ]
     },
     "execution_count": 12,
     "metadata": {},
     "output_type": "execute_result"
    }
   ],
   "source": [
    "type(g)"
   ]
  },
  {
   "cell_type": "code",
   "execution_count": 13,
   "id": "3f4454de-589e-4e82-addf-b67794325954",
   "metadata": {},
   "outputs": [
    {
     "data": {
      "text/plain": [
       "'a'"
      ]
     },
     "execution_count": 13,
     "metadata": {},
     "output_type": "execute_result"
    }
   ],
   "source": [
    "next(g)"
   ]
  },
  {
   "cell_type": "code",
   "execution_count": 14,
   "id": "0ca96b84-b794-43fa-aca1-40be528f4385",
   "metadata": {},
   "outputs": [
    {
     "data": {
      "text/plain": [
       "'b'"
      ]
     },
     "execution_count": 14,
     "metadata": {},
     "output_type": "execute_result"
    }
   ],
   "source": [
    "next(g)"
   ]
  },
  {
   "cell_type": "code",
   "execution_count": 15,
   "id": "b4598c4d-851f-4ac1-95db-9ddd7184f009",
   "metadata": {},
   "outputs": [
    {
     "data": {
      "text/plain": [
       "'c'"
      ]
     },
     "execution_count": 15,
     "metadata": {},
     "output_type": "execute_result"
    }
   ],
   "source": [
    "next(g)"
   ]
  },
  {
   "cell_type": "code",
   "execution_count": 16,
   "id": "c4f0aa98-b09c-49b9-a7cc-32c56ba00e32",
   "metadata": {},
   "outputs": [
    {
     "ename": "StopIteration",
     "evalue": "",
     "output_type": "error",
     "traceback": [
      "\u001b[1;31m---------------------------------------------------------------------------\u001b[0m",
      "\u001b[1;31mStopIteration\u001b[0m                             Traceback (most recent call last)",
      "Cell \u001b[1;32mIn[16], line 1\u001b[0m\n\u001b[1;32m----> 1\u001b[0m \u001b[38;5;28mnext\u001b[39m(g)\n",
      "\u001b[1;31mStopIteration\u001b[0m: "
     ]
    }
   ],
   "source": [
    "next(g) #모든값을 꺼내고나면 StopIteration이 일어난다."
   ]
  },
  {
   "cell_type": "markdown",
   "id": "3b8cba64-b681-4b59-aa1b-76bce637fb63",
   "metadata": {},
   "source": [
    "## 3. 제너레이터 표현식"
   ]
  },
  {
   "cell_type": "code",
   "execution_count": 17,
   "id": "8980bc6a-06dd-46cc-af6f-e62b543973c4",
   "metadata": {},
   "outputs": [
    {
     "name": "stdout",
     "output_type": "stream",
     "text": [
      "1\n",
      "4\n",
      "9\n"
     ]
    }
   ],
   "source": [
    "def mygen():\n",
    "    for i in range(1,1000):\n",
    "        result = i * i\n",
    "        yield result\n",
    "gen = mygen()\n",
    "\n",
    "print(next(gen))\n",
    "print(next(gen))\n",
    "print(next(gen))"
   ]
  },
  {
   "cell_type": "code",
   "execution_count": 18,
   "id": "48563c93-7e9f-4b76-bf3f-da1ad38ceff5",
   "metadata": {},
   "outputs": [
    {
     "name": "stdout",
     "output_type": "stream",
     "text": [
      "1\n",
      "4\n",
      "9\n",
      "16\n",
      "25\n"
     ]
    }
   ],
   "source": [
    "# 제너레이터 표현식\n",
    "gen = (i*i for i in range(1,1000))\n",
    "\n",
    "for i in range(1,6):\n",
    "    print(next(gen))"
   ]
  },
  {
   "cell_type": "code",
   "execution_count": null,
   "id": "1ccbca23-6129-447d-9855-e38bc64e2350",
   "metadata": {},
   "outputs": [],
   "source": []
  }
 ],
 "metadata": {
  "kernelspec": {
   "display_name": "Python [conda env:base] *",
   "language": "python",
   "name": "conda-base-py"
  },
  "language_info": {
   "codemirror_mode": {
    "name": "ipython",
    "version": 3
   },
   "file_extension": ".py",
   "mimetype": "text/x-python",
   "name": "python",
   "nbconvert_exporter": "python",
   "pygments_lexer": "ipython3",
   "version": "3.13.5"
  }
 },
 "nbformat": 4,
 "nbformat_minor": 5
}
