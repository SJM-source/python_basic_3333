{
 "cells": [
  {
   "cell_type": "markdown",
   "id": "36ba99c5-2308-4599-8037-93ee484b9ab4",
   "metadata": {},
   "source": [
    ".\n",
    "임의의 한 문자(줄바꿈 문자 제외)\n",
    "\n",
    "^\n",
    "문자열의 시작\n",
    "$\n",
    "문자열의 끝\n",
    "\n",
    "*\n",
    "0회 이상 반복\n",
    "+\n",
    "1회 이상 반복\n",
    "?\n",
    "0회 또는 1회\n",
    "{n}\n",
    "n회 반복\n",
    "{n,}\n",
    "n회 이상 반복\n",
    "{n,m}\n",
    "n회 이상 m회 이하 반복\n",
    "\n",
    "[]\n",
    "문자 집합, 괄호 안의 문자 중 하나와 매치\n",
    "|\n",
    "OR 연산자\n",
    "\\\n",
    "이스케이프 문자\n",
    "()\n",
    "그룹을 지정\n",
    "\n",
    "\\d\n",
    "숫자와 매치, [0-9]\n",
    "\\D\n",
    "숫자가 아닌 것과 매치, [^0-9]\n",
    "\n",
    "\\s\n",
    "공백 문자와 매치, [ \\t\\n\\r\\f\\v]\n",
    "\\S\n",
    "공백 문자가 아닌 것과 매치, [^ \\t\\n\\r\\f\\v]\n",
    "\n",
    "\\w\n",
    "문자 + 숫자와 매치, [a-zA-Z0-9_]\n",
    "\\W\n",
    "문자 + 숫자가 아닌 것과 매치, [^a-zA-Z0-9_]\n"
   ]
  },
  {
   "cell_type": "markdown",
   "id": "54ffea25-4b37-49c7-aeab-a39f9e0584ea",
   "metadata": {},
   "source": [
    "### 정규 표현식"
   ]
  },
  {
   "cell_type": "code",
   "execution_count": 4,
   "id": "a91123db-4d5f-4275-9a16-db1f7fc5f148",
   "metadata": {},
   "outputs": [
    {
     "name": "stdout",
     "output_type": "stream",
     "text": [
      "123\n"
     ]
    }
   ],
   "source": [
    "import re\n",
    "\n",
    "pattern=re.compile(r'\\d+')\n",
    "match=pattern.match('123abc')\n",
    "\n",
    "if match:\n",
    "    print(match.group())"
   ]
  },
  {
   "cell_type": "code",
   "execution_count": 5,
   "id": "1503a408-2742-43e9-821c-978b96edcc66",
   "metadata": {},
   "outputs": [
    {
     "name": "stdout",
     "output_type": "stream",
     "text": [
      "abc\n"
     ]
    }
   ],
   "source": [
    "import re\n",
    "\n",
    "pattern=re.compile(r'\\D+')\n",
    "search=pattern.search('123abc')\n",
    "\n",
    "if search:\n",
    "    print(search.group())"
   ]
  },
  {
   "cell_type": "code",
   "execution_count": 7,
   "id": "ccf78b8f-5a21-448b-b431-b5e140a62380",
   "metadata": {},
   "outputs": [
    {
     "name": "stdout",
     "output_type": "stream",
     "text": [
      "['123', '456']\n"
     ]
    }
   ],
   "source": [
    "pattern=re.compile(r'\\d+')\n",
    "matchs=pattern.findall('abc123def456')\n",
    "print(matchs)   #리스트 반환"
   ]
  },
  {
   "cell_type": "code",
   "execution_count": 8,
   "id": "4d677fa8-d846-4dc4-b7ad-7e91ab05e1d4",
   "metadata": {},
   "outputs": [
    {
     "name": "stdout",
     "output_type": "stream",
     "text": [
      "['abc', 'def']\n"
     ]
    }
   ],
   "source": [
    "pattern=re.compile(r'\\D+')\n",
    "matchs=pattern.findall('abc123def456')\n",
    "print(matchs)"
   ]
  },
  {
   "cell_type": "code",
   "execution_count": 9,
   "id": "7237af64-edca-4502-9d53-8f5fde105056",
   "metadata": {},
   "outputs": [
    {
     "name": "stdout",
     "output_type": "stream",
     "text": [
      "abcNUMBERdefNUMBER\n"
     ]
    }
   ],
   "source": [
    "pattern = re.compile(r'\\d+') \n",
    "result = pattern.sub('NUMBER', 'abc123def456') \n",
    "print(result) "
   ]
  },
  {
   "cell_type": "code",
   "execution_count": 10,
   "id": "a7c7725e-77a2-427f-b8d9-b1a03171d25f",
   "metadata": {},
   "outputs": [
    {
     "name": "stdout",
     "output_type": "stream",
     "text": [
      "NUMBER123NUMBER456\n"
     ]
    }
   ],
   "source": [
    "pattern = re.compile(r'\\D+') \n",
    "result = pattern.sub('NUMBER', 'abc123def456') \n",
    "print(result) "
   ]
  },
  {
   "cell_type": "code",
   "execution_count": null,
   "id": "420101bd-197d-4f39-a7b8-72ada4434da6",
   "metadata": {},
   "outputs": [],
   "source": []
  }
 ],
 "metadata": {
  "kernelspec": {
   "display_name": "Python [conda env:base] *",
   "language": "python",
   "name": "conda-base-py"
  },
  "language_info": {
   "codemirror_mode": {
    "name": "ipython",
    "version": 3
   },
   "file_extension": ".py",
   "mimetype": "text/x-python",
   "name": "python",
   "nbconvert_exporter": "python",
   "pygments_lexer": "ipython3",
   "version": "3.13.5"
  }
 },
 "nbformat": 4,
 "nbformat_minor": 5
}
